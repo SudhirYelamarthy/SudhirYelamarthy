{
  "cells": [
    {
      "cell_type": "markdown",
      "id": "59fa1c54",
      "metadata": {
        "id": "59fa1c54"
      },
      "source": [
        "# Lecture 1: Getting Started with Python and Google Colab\n",
        "\n",
        "Welcome to ENGR1050! In this notebook, you'll learn how to use Google Colab, write Markdown, and practice Python basics including loops."
      ]
    },
    {
      "cell_type": "markdown",
      "id": "d2f6eff5",
      "metadata": {
        "id": "d2f6eff5"
      },
      "source": [
        "[![Open In Colab](https://colab.research.google.com/assets/colab-badge.svg)](https://colab.research.google.com/github/PIMILab/ENGR1050/blob/main/notebooks/lec01.ipynb)\n",
        "\n",
        "> Click the badge above to open this notebook in Google Colab. You are also welcome to run notebooks in your own environment (VSCode, jupyter-notebook server, etc) if you know how to do that, but for now this link will let you get started without configuring your computer."
      ]
    },
    {
      "cell_type": "markdown",
      "id": "7db4132a",
      "metadata": {
        "id": "7db4132a"
      },
      "source": [
        "## 1. Getting Started with Google Colab\n",
        "\n",
        "Google Colab is a free, cloud-based Jupyter notebook environment. You can write and execute Python code in your browser, with no setup required.\n",
        "\n",
        "**To get started:**\n",
        "- Go to [Google Colab](https://colab.research.google.com/)\n",
        "- Click on `File` > `New notebook`\n",
        "- You can now write and run Python code!\n",
        "\n",
        "Let's try running a simple code cell below."
      ]
    },
    {
      "cell_type": "code",
      "execution_count": 2,
      "id": "b239c84d",
      "metadata": {
        "colab": {
          "base_uri": "https://localhost:8080/"
        },
        "id": "b239c84d",
        "outputId": "dbfa3744-2393-4793-be68-6ed42635eb82"
      },
      "outputs": [
        {
          "output_type": "stream",
          "name": "stdout",
          "text": [
            "Hello, Colab!\n"
          ]
        }
      ],
      "source": [
        "# Run this cell to see output below!\n",
        "print('Hello, Colab!')"
      ]
    },
    {
      "cell_type": "markdown",
      "id": "b6c293f0",
      "metadata": {
        "id": "b6c293f0"
      },
      "source": [
        "## 2. Basics of Markdown in Colab\n",
        "\n",
        "You can add text cells in Colab using Markdown. This is useful for notes, instructions, and formatting your notebook. For your assignments when submitting a jupyter notebook, use headings to clearly present your work.\n",
        "\n",
        "**Markdown Examples:**\n",
        "\n",
        "# Heading 1\n",
        "## Heading 2\n",
        "**Bold text**\n",
        "*Italic text*\n",
        "- Bullet list item 1\n",
        "- Bullet list item 2\n",
        "\n",
        "Inline code: `print('Hello!')`\n",
        "\n",
        "You can try editing this cell or add your own Markdown cell!"
      ]
    },
    {
      "cell_type": "markdown",
      "source": [
        "###this is a markdown fjdsakfdas"
      ],
      "metadata": {
        "id": "C6aEuEJi365e"
      },
      "id": "C6aEuEJi365e"
    },
    {
      "cell_type": "markdown",
      "id": "28b983f3",
      "metadata": {
        "id": "28b983f3"
      },
      "source": [
        "## 3. Writing and Running Python Code Cells\n",
        "\n",
        "You can add code cells to write and run Python code. Try the example below:"
      ]
    },
    {
      "cell_type": "code",
      "execution_count": 1,
      "id": "b941c1cb",
      "metadata": {
        "colab": {
          "base_uri": "https://localhost:8080/"
        },
        "id": "b941c1cb",
        "outputId": "45bfb141-c78a-4374-fcf4-d44b6b1d7339"
      },
      "outputs": [
        {
          "output_type": "stream",
          "name": "stdout",
          "text": [
            "The value of x is: 5\n"
          ]
        }
      ],
      "source": [
        "# Assign a value to a variable and print it\n",
        "x = 5\n",
        "print('The value of x is:', x)"
      ]
    },
    {
      "cell_type": "markdown",
      "id": "89334fe3",
      "metadata": {
        "id": "89334fe3"
      },
      "source": [
        "## 4. Looping Over a List: Examples\n",
        "\n",
        "Loops let you repeat actions for each item in a list. Here are some examples:"
      ]
    },
    {
      "cell_type": "code",
      "execution_count": 3,
      "id": "e1910d39",
      "metadata": {
        "colab": {
          "base_uri": "https://localhost:8080/"
        },
        "id": "e1910d39",
        "outputId": "551ba48a-9c3d-417b-db26-ef3cd11c1709"
      },
      "outputs": [
        {
          "output_type": "stream",
          "name": "stdout",
          "text": [
            "apple\n",
            "banana\n",
            "cherry\n"
          ]
        }
      ],
      "source": [
        "# Print each item in a list\n",
        "fruits = ['apple', 'banana', 'cherry']\n",
        "for fruit in fruits:\n",
        "    print(fruit)"
      ]
    },
    {
      "cell_type": "code",
      "execution_count": 4,
      "id": "adea1f6d",
      "metadata": {
        "colab": {
          "base_uri": "https://localhost:8080/"
        },
        "id": "adea1f6d",
        "outputId": "8ef2c325-c682-41a9-8437-d78c5129e527"
      },
      "outputs": [
        {
          "output_type": "stream",
          "name": "stdout",
          "text": [
            "1 squared is 1\n",
            "2 squared is 4\n",
            "3 squared is 9\n",
            "4 squared is 16\n"
          ]
        }
      ],
      "source": [
        "# Square each number in a list and print the result\n",
        "numbers = [1, 2, 3, 4]\n",
        "for num in numbers:\n",
        "    print(num, 'squared is', num ** 2)"
      ]
    },
    {
      "cell_type": "markdown",
      "id": "28b70123",
      "metadata": {
        "id": "28b70123"
      },
      "source": [
        "## 5. Fill in the Blank: Loop Exercises\n",
        "\n",
        "Try to complete the following code cells by filling in the blanks!"
      ]
    },
    {
      "cell_type": "code",
      "execution_count": 5,
      "id": "bdebcdb9",
      "metadata": {
        "colab": {
          "base_uri": "https://localhost:8080/"
        },
        "id": "bdebcdb9",
        "outputId": "5784d387-3230-45af-df45-a853f29a628f"
      },
      "outputs": [
        {
          "output_type": "stream",
          "name": "stdout",
          "text": [
            "red\n",
            "green\n",
            "blue\n"
          ]
        }
      ],
      "source": [
        "# Fill in the blanks to print each color in the list\n",
        "colors = ['red', 'green', 'blue']\n",
        "for color in colors:\n",
        "    print(color)  # Replace the blanks to make this work"
      ]
    },
    {
      "cell_type": "code",
      "execution_count": 6,
      "id": "2e5525b7",
      "metadata": {
        "colab": {
          "base_uri": "https://localhost:8080/"
        },
        "id": "2e5525b7",
        "outputId": "539103ba-cc9e-4bb3-8976-1c29c9d885e4"
      },
      "outputs": [
        {
          "output_type": "stream",
          "name": "stdout",
          "text": [
            "2 squared is 4\n",
            "4 squared is 16\n",
            "6 squared is 36\n"
          ]
        }
      ],
      "source": [
        "# Fill in the blanks to print each number squared\n",
        "nums = [2, 4, 6]\n",
        "for num in nums:\n",
        "    print(num, 'squared is', num ** 2)  # Replace the blanks"
      ]
    },
    {
      "cell_type": "markdown",
      "id": "ab9487c4",
      "metadata": {
        "id": "ab9487c4"
      },
      "source": [
        "## 6. Using input() to Define Variables\n",
        "\n",
        "You can use the `input()` function to get user input and save it in a variable. Try the example below:"
      ]
    },
    {
      "cell_type": "code",
      "execution_count": 7,
      "id": "f32eb751",
      "metadata": {
        "colab": {
          "base_uri": "https://localhost:8080/"
        },
        "id": "f32eb751",
        "outputId": "a7b82878-cd4b-40ff-94f3-aa10920bfa8b"
      },
      "outputs": [
        {
          "output_type": "stream",
          "name": "stdout",
          "text": [
            "Input a value to save in variable x: 5\n",
            "You entered: 5\n"
          ]
        }
      ],
      "source": [
        "# Example: Save user input in a variable\n",
        "x = input('Input a value to save in variable x: ')\n",
        "print('You entered:', x)"
      ]
    },
    {
      "cell_type": "markdown",
      "id": "8eda310b",
      "metadata": {
        "id": "8eda310b"
      },
      "source": [
        "## 7. Exercise: Penn-themed Mad Libs Story\n",
        "\n",
        "To put everything together, we will create a Mad Libs story! Complete the code below to ask the user for different types of words (adjective, animal, place on campus, verb, noun, etc.), then print a funny story set at the University of Pennsylvania using their answers."
      ]
    },
    {
      "cell_type": "code",
      "execution_count": 10,
      "id": "bbc51f50",
      "metadata": {
        "colab": {
          "base_uri": "https://localhost:8080/"
        },
        "id": "bbc51f50",
        "outputId": "10435964-a9c9-490c-e9ba-f5d5813af16c"
      },
      "outputs": [
        {
          "output_type": "stream",
          "name": "stdout",
          "text": [
            "enter a adjective crazy\n",
            "enter a animal ant\n",
            "enter a verb running\n",
            "enter a place the quad\n",
            "enter a adjective beautiful\n",
            "enter a noun tree\n",
            "On my first day at the University of Pennsylvania, I saw a crazy ant running across from the quad. It stopped to admire a beautiful tree before heading to class. What a day at Penn!\n"
          ]
        }
      ],
      "source": [
        "# Take user input to define the variables adjective1, animal, verb, campus_place, adjective2, noun\n",
        "\n",
        "# If you have successfully used the 'input' function above, the following code will fill the user input into the placeholders for the story\n",
        "adjective1 = input('enter a adjective ')\n",
        "animal = input('enter a animal ')\n",
        "verb = input('enter a verb ')\n",
        "campus_place = input('enter a place ')\n",
        "adjective2 = input('enter a adjective ')\n",
        "noun = input('enter a noun ')\n",
        "print(f\"On my first day at the University of Pennsylvania, I saw a {adjective1} {animal} {verb} across from {campus_place}. It stopped to admire a {adjective2} {noun} before heading to class. What a day at Penn!\")"
      ]
    },
    {
      "cell_type": "markdown",
      "id": "96855579",
      "metadata": {
        "id": "96855579"
      },
      "source": [
        "## 7. Submitting Your Notebook to Canvas\n",
        "\n",
        "When you are finished with your work:\n",
        "\n",
        "1. Run any blocks of code so that the notebook contains the output of your code.\n",
        "2. Save your notebook (File > Save or Ctrl+S).\n",
        "3. Download your notebook as an `.ipynb` file:\n",
        "   - In Colab: File > Download > Download .ipynb\n",
        "   - In Jupyter: File > Download as > Notebook (.ipynb)\n",
        "4. Go to the Canvas assignment page for this lecture.\n",
        "5. Upload your `.ipynb` file and submit.\n",
        "6. Double-check that your file uploaded correctly and is not empty.\n",
        "\n",
        "For this project we will submit **in groups** - follow the directions from the lecture slides to make sure you understand the process for this."
      ]
    },
    {
      "cell_type": "markdown",
      "id": "9f586330",
      "metadata": {
        "id": "9f586330"
      },
      "source": []
    }
  ],
  "metadata": {
    "language_info": {
      "name": "python"
    },
    "colab": {
      "provenance": []
    },
    "kernelspec": {
      "name": "python3",
      "display_name": "Python 3"
    }
  },
  "nbformat": 4,
  "nbformat_minor": 5
}